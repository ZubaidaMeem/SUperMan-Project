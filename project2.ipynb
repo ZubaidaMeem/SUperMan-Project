{
 "cells": [
  {
   "cell_type": "code",
   "execution_count": 2,
   "id": "c4b52333",
   "metadata": {},
   "outputs": [],
   "source": [
    "expenses = [\n",
    "    {\"category\": \"Food\", \"amount\": 2500},\n",
    "    {\"category\": \"Transport\", \"amount\": 1200},\n",
    "    {\"category\": \"Shopping\", \"amount\": 3000},\n",
    "    {\"category\": \"Food\", \"amount\": 1500},\n",
    "    {\"category\": \"Rent\", \"amount\": 8000}\n",
    "]"
   ]
  },
  {
   "cell_type": "code",
   "execution_count": 3,
   "id": "148274a0",
   "metadata": {},
   "outputs": [
    {
     "name": "stdout",
     "output_type": "stream",
     "text": [
      "মোট খরচ: 16200\n"
     ]
    }
   ],
   "source": [
    "total_expense = 0\n",
    "for item in expenses:\n",
    "    total_expense += item[\"amount\"]\n",
    "\n",
    "print(\"মোট খরচ:\", total_expense)"
   ]
  },
  {
   "cell_type": "code",
   "execution_count": 4,
   "id": "edc88012",
   "metadata": {},
   "outputs": [
    {
     "name": "stdout",
     "output_type": "stream",
     "text": [
      "Category wise খরচ: {'Food': 4000, 'Transport': 1200, 'Shopping': 3000, 'Rent': 8000}\n"
     ]
    }
   ],
   "source": [
    "category_wise = {}\n",
    "for item in expenses:\n",
    "    category = item[\"category\"]\n",
    "    amount = item[\"amount\"]\n",
    "\n",
    "    if category in category_wise:\n",
    "        category_wise[category] += amount\n",
    "    else:\n",
    "        category_wise[category] = amount\n",
    "\n",
    "print(\"Category wise খরচ:\", category_wise)"
   ]
  },
  {
   "cell_type": "code",
   "execution_count": 5,
   "id": "726c4f81",
   "metadata": {},
   "outputs": [
    {
     "name": "stdout",
     "output_type": "stream",
     "text": [
      "তুমি লসে গেছো: 9200 টাকা\n"
     ]
    }
   ],
   "source": [
    "income = 7000\n",
    "savings = income - total_expense\n",
    "\n",
    "if savings > 0:\n",
    "    print(\"তুমি সেভ করতে পেরেছো:\", savings, \"টাকা\")\n",
    "elif savings == 0:\n",
    "    print(\"একেবারে ব্রেক ইভেন! সেভ হয়নি, লসও হয়নি।\")\n",
    "else:\n",
    "    print(\"তুমি লসে গেছো:\", abs(savings), \"টাকা\")\n"
   ]
  },
  {
   "cell_type": "code",
   "execution_count": 6,
   "id": "fd9d2e9e",
   "metadata": {},
   "outputs": [
    {
     "name": "stdout",
     "output_type": "stream",
     "text": [
      "সবচেয়ে বেশি খরচ হয়েছে: Rent - 8000 টাকা\n"
     ]
    }
   ],
   "source": [
    "highest_category = None\n",
    "highest_amount = 0\n",
    "\n",
    "for category, amount in category_wise.items():\n",
    "    if amount > highest_amount:\n",
    "        highest_amount = amount\n",
    "        highest_category = category\n",
    "\n",
    "print(\"সবচেয়ে বেশি খরচ হয়েছে:\", highest_category, \"-\", highest_amount, \"টাকা\")"
   ]
  }
 ],
 "metadata": {
  "kernelspec": {
   "display_name": "Python 3",
   "language": "python",
   "name": "python3"
  },
  "language_info": {
   "codemirror_mode": {
    "name": "ipython",
    "version": 3
   },
   "file_extension": ".py",
   "mimetype": "text/x-python",
   "name": "python",
   "nbconvert_exporter": "python",
   "pygments_lexer": "ipython3",
   "version": "3.11.0"
  }
 },
 "nbformat": 4,
 "nbformat_minor": 5
}
