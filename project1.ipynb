{
 "cells": [
  {
   "cell_type": "code",
   "execution_count": 77,
   "id": "61abcc8f",
   "metadata": {},
   "outputs": [
    {
     "name": "stdout",
     "output_type": "stream",
     "text": [
      "Hello Student! 👋 Superman Session Project 1 শুরু হলো\n"
     ]
    }
   ],
   "source": [
    "print(\"Hello Student! 👋 Superman Session Project 1 শুরু হলো\")"
   ]
  },
  {
   "cell_type": "code",
   "execution_count": 78,
   "id": "5332485a",
   "metadata": {},
   "outputs": [
    {
     "name": "stdout",
     "output_type": "stream",
     "text": [
      "{'name': 'Arafat', 'math': 85, 'eng': 78, 'science': 92}\n",
      "Arafat\n",
      "85\n"
     ]
    }
   ],
   "source": [
    "student = {\n",
    "    \"name\": \"Arafat\",\n",
    "    \"math\": 85,\n",
    "    \"eng\": 78,\n",
    "    \"science\": 92\n",
    "}\n",
    "print(student)\n",
    "print(student[\"name\"])\n",
    "print(student[\"math\"])"
   ]
  },
  {
   "cell_type": "code",
   "execution_count": 79,
   "id": "8a4c13ad",
   "metadata": {},
   "outputs": [
    {
     "name": "stdout",
     "output_type": "stream",
     "text": [
      "মোট স্টুডেন্ট: 5\n",
      "[{'name': 'Arafat', 'math': 85, 'eng': 78, 'science': 92}, {'name': 'Nusrat', 'math': 90, 'eng': 88, 'science': 80}, {'name': 'Sakib', 'math': 70, 'eng': 60, 'science': 75}, {'name': 'Riya', 'math': 93, 'eng': 80, 'science': 86}, {'name': 'Eti', 'math': 78, 'eng': 81, 'science': 65}]\n"
     ]
    }
   ],
   "source": [
    "students = [\n",
    "    {\"name\": \"Arafat\", \"math\": 85, \"eng\": 78, \"science\": 92},\n",
    "    {\"name\": \"Nusrat\", \"math\": 90, \"eng\": 88, \"science\": 80},\n",
    "    {\"name\": \"Sakib\",  \"math\": 70, \"eng\": 60, \"science\": 75},\n",
    "    {\"name\": \"Riya\",   \"math\": 93, \"eng\": 80, \"science\": 86},\n",
    "    {\"name\": \"Eti\",    \"math\": 78, \"eng\": 81, \"science\": 65}\n",
    "]\n",
    "\n",
    "print(\"মোট স্টুডেন্ট:\", len(students))\n",
    "print(students)  # সম্পূর্ণ লিস্ট দেখাবে"
   ]
  },
  {
   "cell_type": "code",
   "execution_count": 80,
   "id": "e1d72ef9",
   "metadata": {},
   "outputs": [
    {
     "name": "stdout",
     "output_type": "stream",
     "text": [
      "Arafat → total: 255\n",
      "Nusrat → total: 258\n",
      "Sakib → total: 205\n",
      "Riya → total: 259\n",
      "Eti → total: 224\n"
     ]
    }
   ],
   "source": [
    "for s in students:\n",
    "    s[\"total\"] = s[\"math\"] + s[\"eng\"] + s[\"science\"]\n",
    "\n",
    "# Check totals\n",
    "for s in students:\n",
    "    print(s[\"name\"], \"→ total:\", s[\"total\"])"
   ]
  },
  {
   "cell_type": "code",
   "execution_count": 81,
   "id": "4f45c98c",
   "metadata": {},
   "outputs": [
    {
     "name": "stdout",
     "output_type": "stream",
     "text": [
      "Topper: Riya with 259 marks\n"
     ]
    }
   ],
   "source": [
    "highest = -1           # শুরুতে খুব ছোট মান\n",
    "topper_name = \"\"\n",
    "\n",
    "for s in students:\n",
    "    if s[\"total\"] > highest:\n",
    "        highest = s[\"total\"]\n",
    "        topper_name = s[\"name\"]\n",
    "\n",
    "print(\"Topper:\", topper_name, \"with\", highest, \"marks\")\n"
   ]
  },
  {
   "cell_type": "code",
   "execution_count": 82,
   "id": "88c7576f",
   "metadata": {},
   "outputs": [
    {
     "name": "stdout",
     "output_type": "stream",
     "text": [
      "----- Report Card -----\n",
      "Name   : Arafat\n",
      "Math   : 85\n",
      "English: 78\n",
      "Science: 92\n",
      "Total  : 255\n",
      "-----------------------\n",
      "----- Report Card -----\n",
      "Name   : Nusrat\n",
      "Math   : 90\n",
      "English: 88\n",
      "Science: 80\n",
      "Total  : 258\n",
      "-----------------------\n",
      "----- Report Card -----\n",
      "Name   : Sakib\n",
      "Math   : 70\n",
      "English: 60\n",
      "Science: 75\n",
      "Total  : 205\n",
      "-----------------------\n",
      "----- Report Card -----\n",
      "Name   : Riya\n",
      "Math   : 93\n",
      "English: 80\n",
      "Science: 86\n",
      "Total  : 259\n",
      "-----------------------\n",
      "----- Report Card -----\n",
      "Name   : Eti\n",
      "Math   : 78\n",
      "English: 81\n",
      "Science: 65\n",
      "Total  : 224\n",
      "-----------------------\n",
      "\n",
      "Overall Topper → Riya with 259\n"
     ]
    }
   ],
   "source": [
    "for s in students:\n",
    "    print(\"----- Report Card -----\")\n",
    "    print(\"Name   :\", s[\"name\"])\n",
    "    print(\"Math   :\", s[\"math\"])\n",
    "    print(\"English:\", s[\"eng\"])\n",
    "    print(\"Science:\", s[\"science\"])\n",
    "    print(\"Total  :\", s[\"total\"])\n",
    "    print(\"-----------------------\")\n",
    "\n",
    "print(\"\\nOverall Topper →\", topper_name, \"with\", highest)"
   ]
  }
 ],
 "metadata": {
  "kernelspec": {
   "display_name": "Python 3",
   "language": "python",
   "name": "python3"
  },
  "language_info": {
   "codemirror_mode": {
    "name": "ipython",
    "version": 3
   },
   "file_extension": ".py",
   "mimetype": "text/x-python",
   "name": "python",
   "nbconvert_exporter": "python",
   "pygments_lexer": "ipython3",
   "version": "3.11.0"
  }
 },
 "nbformat": 4,
 "nbformat_minor": 5
}
