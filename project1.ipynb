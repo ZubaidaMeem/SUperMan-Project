{
 "cells": [
  {
   "cell_type": "code",
   "execution_count": null,
   "id": "61abcc8f",
   "metadata": {},
   "outputs": [],
   "source": [
    "from IPython.display import display\n",
    "print(\"Hello Student! 👋 Superman Session Project 1 শুরু হলো\")"
   ]
  },
  {
   "cell_type": "code",
   "execution_count": null,
   "id": "5332485a",
   "metadata": {},
   "outputs": [],
   "source": [
    "student = {\n",
    "    \"name\": \"Arafat\",\n",
    "    \"math\": 85,\n",
    "    \"eng\": 78,\n",
    "    \"science\": 92\n",
    "}\n",
    "print(student)\n",
    "print(student[\"name\"])\n",
    "print(student[\"math\"])"
   ]
  },
  {
   "cell_type": "code",
   "execution_count": null,
   "id": "8a4c13ad",
   "metadata": {},
   "outputs": [],
   "source": [
    "students = [\n",
    "    {\"name\": \"Arafat\", \"math\": 85, \"eng\": 78, \"science\": 92},\n",
    "    {\"name\": \"Nusrat\", \"math\": 90, \"eng\": 88, \"science\": 80},\n",
    "    {\"name\": \"Sakib\",  \"math\": 70, \"eng\": 60, \"science\": 75},\n",
    "    {\"name\": \"Riya\",   \"math\": 93, \"eng\": 80, \"science\": 86},\n",
    "    {\"name\": \"Eti\",    \"math\": 78, \"eng\": 81, \"science\": 65}\n",
    "]\n",
    "\n",
    "print(\"মোট স্টুডেন্ট:\", len(students))\n",
    "print(students)  # সম্পূর্ণ লিস্ট দেখাবে"
   ]
  },
  {
   "cell_type": "code",
   "execution_count": null,
   "id": "e1d72ef9",
   "metadata": {},
   "outputs": [],
   "source": [
    "for s in students:\n",
    "    s[\"total\"] = s[\"math\"] + s[\"eng\"] + s[\"science\"]\n",
    "\n",
    "# Check totals\n",
    "for s in students:\n",
    "    print(s[\"name\"], \"→ total:\", s[\"total\"])"
   ]
  },
  {
   "cell_type": "code",
   "execution_count": null,
   "id": "4f45c98c",
   "metadata": {},
   "outputs": [],
   "source": [
    "highest = -1           # শুরুতে খুব ছোট মান\n",
    "topper_name = \"\"\n",
    "\n",
    "for s in students:\n",
    "    if s[\"total\"] > highest:\n",
    "        highest = s[\"total\"]\n",
    "        topper_name = s[\"name\"]\n",
    "\n",
    "print(\"Topper:\", topper_name, \"with\", highest, \"marks\")\n"
   ]
  },
  {
   "cell_type": "code",
   "execution_count": null,
   "id": "88c7576f",
   "metadata": {},
   "outputs": [],
   "source": [
    "for s in students:\n",
    "    print(\"----- Report Card -----\")\n",
    "    print(\"Name   :\", s[\"name\"])\n",
    "    print(\"Math   :\", s[\"math\"])\n",
    "    print(\"English:\", s[\"eng\"])\n",
    "    print(\"Science:\", s[\"science\"])\n",
    "    print(\"Total  :\", s[\"total\"])\n",
    "    print(\"-----------------------\")\n",
    "\n",
    "print(\"\\nOverall Topper →\", topper_name, \"with\", highest)"
   ]
  },
  {
   "cell_type": "code",
   "execution_count": 10,
   "id": "b4f68fac",
   "metadata": {},
   "outputs": [
    {
     "data": {
      "text/plain": [
       "{'name': 'Arafat', 'math': 85, 'eng': 78, 'science': 92, 'total': 255}"
      ]
     },
     "metadata": {},
     "output_type": "display_data"
    },
    {
     "data": {
      "text/plain": [
       "{'name': 'Nusrat', 'math': 90, 'eng': 88, 'science': 80, 'total': 258}"
      ]
     },
     "metadata": {},
     "output_type": "display_data"
    },
    {
     "data": {
      "text/plain": [
       "{'name': 'Sakib', 'math': 70, 'eng': 60, 'science': 75, 'total': 205}"
      ]
     },
     "metadata": {},
     "output_type": "display_data"
    },
    {
     "data": {
      "text/plain": [
       "{'name': 'Riya', 'math': 93, 'eng': 80, 'science': 86, 'total': 259}"
      ]
     },
     "metadata": {},
     "output_type": "display_data"
    },
    {
     "data": {
      "text/plain": [
       "{'name': 'Eti', 'math': 78, 'eng': 81, 'science': 65, 'total': 224}"
      ]
     },
     "metadata": {},
     "output_type": "display_data"
    }
   ],
   "source": [
    "for s in students:\n",
    "    display(s)"
   ]
  }
 ],
 "metadata": {
  "kernelspec": {
   "display_name": "Python 3",
   "language": "python",
   "name": "python3"
  },
  "language_info": {
   "codemirror_mode": {
    "name": "ipython",
    "version": 3
   },
   "file_extension": ".py",
   "mimetype": "text/x-python",
   "name": "python",
   "nbconvert_exporter": "python",
   "pygments_lexer": "ipython3",
   "version": "3.11.0"
  }
 },
 "nbformat": 4,
 "nbformat_minor": 5
}
